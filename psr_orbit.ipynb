{
 "cells": [
  {
   "cell_type": "code",
   "execution_count": 7,
   "metadata": {},
   "outputs": [],
   "source": [
    "import glob, re\n",
    "import numpy as np\n",
    "import matplotlib.pyplot as plt\n",
    "from scipy.optimize import curve_fit\n",
    "from psrqpy import QueryATNF"
   ]
  },
  {
   "cell_type": "markdown",
   "metadata": {},
   "source": [
    "### Fitting Orbital Period"
   ]
  },
  {
   "cell_type": "code",
   "execution_count": 10,
   "metadata": {},
   "outputs": [],
   "source": [
    "# If you need to download the archival data onto your personal computer you may do so using this wget command. \n",
    "# !wget --no-parent -r 'https://www.gb.nrao.edu/~rlynch/files/20m-orbit/bestprof/' <-P $PATH>\n",
    "# where $PATH is your desired directory to store the data. Default will be the directory where this notebook is saved.\n",
    "# This notebook should be saved in the parent folder of the data with each set of pulsar observations in a separate subdirectory.\n",
    "path = \"/Users/jackson/Desktop/SDSS Pulsar/www.gb.nrao.edu/~rlynch/files/20m-orbit/bestprof\" # point at the subdirectory you are looking at\n",
    "path = \"J0437-4715\""
   ]
  },
  {
   "cell_type": "code",
   "execution_count": 11,
   "metadata": {},
   "outputs": [],
   "source": [
    "t = []\n",
    "P = []\n",
    "\n",
    "for i, fname in enumerate(glob.glob(path + \"/\" + \"*.pfd.*\")):\n",
    "    with open(fname) as file:\n",
    "        contents = file.read()\n",
    "        contents = contents.split(\"/n\")[0].split(\"\\n\")\n",
    "\n",
    "    if i == 0:\n",
    "        # Pull the name of the pulsar you are working with for plotting purposes\n",
    "        pulsar = re.search(pattern := re.compile(r\"J\\d{4}[-|+]\\d{4}\"), contents[0]).group()\n",
    "\n",
    "    t.append(float(contents[4].split()[4]))  # barycenter epoch\n",
    "    P.append(float(contents[18].split()[4])) # observed barycenter period"
   ]
  },
  {
   "cell_type": "code",
   "execution_count": 12,
   "metadata": {},
   "outputs": [
    {
     "data": {
      "text/html": [
       "<div><i>Table length=1</i>\n",
       "<table id=\"table140624440651344\" class=\"table-striped table-bordered table-condensed\">\n",
       "<thead><tr><th>JNAME</th><th>PB</th><th>A1</th><th>PB_ERR</th><th>F0_ERR</th><th>S1400</th><th>S1400_ERR</th><th>ECC</th><th>F0</th><th>A1_ERR</th><th>MINMASS</th><th>ECC_ERR</th></tr></thead>\n",
       "<thead><tr><th></th><th>d</th><th>s</th><th>d</th><th>Hz</th><th>mJy</th><th>mJy</th><th></th><th>Hz</th><th>s</th><th>solMass</th><th></th></tr></thead>\n",
       "<thead><tr><th>str10</th><th>float64</th><th>float64</th><th>float64</th><th>float64</th><th>float64</th><th>float64</th><th>float64</th><th>float64</th><th>float64</th><th>float64</th><th>float64</th></tr></thead>\n",
       "<tr><td>J0437-4715</td><td>5.7410459</td><td>3.36671444</td><td>4e-07</td><td>5e-13</td><td>150.2</td><td>1.6</td><td>1.91811e-05</td><td>173.6879458121843</td><td>5e-08</td><td>0.14028781285199107</td><td>1.5e-09</td></tr>\n",
       "</table></div>"
      ],
      "text/plain": [
       "<Table length=1>\n",
       "  JNAME        PB        A1      PB_ERR ...  A1_ERR       MINMASS       ECC_ERR\n",
       "               d         s         d    ...    s          solMass              \n",
       "  str10     float64   float64   float64 ... float64       float64       float64\n",
       "---------- --------- ---------- ------- ... ------- ------------------- -------\n",
       "J0437-4715 5.7410459 3.36671444   4e-07 ...   5e-08 0.14028781285199107 1.5e-09"
      ]
     },
     "execution_count": 12,
     "metadata": {},
     "output_type": "execute_result"
    }
   ],
   "source": [
    "query = QueryATNF(params=[\"Jname\", 'S1400', \"PB\", \"A1\", \"ECC\", \"F0\", \"MinMass\"], psrs=[pulsar])\n",
    "query.table"
   ]
  },
  {
   "cell_type": "code",
   "execution_count": 13,
   "metadata": {},
   "outputs": [
    {
     "name": "stdout",
     "output_type": "stream",
     "text": [
      "NAME      J0437-4715\n",
      "JNAME     J0437-4715\n",
      "PSRJ      J0437-4715\n",
      "RAJ       04:37:15.8961737         \t6.000000000000000e-07\n",
      "DECJ      -47:15:09.110714         \t0.000007000000000\n",
      "PMRA      121.438999999999993      \t0.002000000000000\n",
      "PMDEC     -71.474999999999994      \t0.002000000000000\n",
      "PX        6.400000000000000        \t0.050000000000000\n",
      "POSEPOCH  54500\n",
      "ELONG     50.468254929380144\n",
      "ELAT      -67.872926774752955\n",
      "PMELONG   86.013554315577181\n",
      "PMELAT    -111.614402386077600\n",
      "GL        253.394459330235719\n",
      "GB        -41.963396759694270\n",
      "RAJD      69.316234057083335       \t2.500000000000000e-09\n",
      "DECJD     -47.252530753888891      \t1.944444444444444e-09\n",
      "TYPE      HE\n",
      "PML       62.870272830886492\n",
      "PMB       126.108822610354608\n",
      "DIST      0.156800000000000\n",
      "DIST_DM   0.156000000000000\n",
      "DIST_DM1  0.139000000000000\n",
      "DIST1     0.156800000000000\n",
      "DIST_A    0.156800000000000        \t0.000300000000000\n",
      "DMSINB    -1.768433886051311\n",
      "ZZ        -0.077736483400915\n",
      "XX        -8.333616740232936\n",
      "YY        -0.111729446797464\n",
      "ASSOC     GRS\n",
      "SURVEY    pks70,FermiBlind,pkshl\n",
      "DATE      2016\n",
      "P0        0.005757451936713        \t1.657412640177805e-17\n",
      "P1        5.729214736380701e-20    \t1.657412640177804e-25\n",
      "F0        173.687945812184296      \t5.000000000000000e-13\n",
      "F1        -1.728361000000000e-15   \t5.000000000000000e-21\n",
      "PEPOCH    54500\n",
      "DM        2.644760000000000        \t0.000070000000000\n",
      "RM        0.155000000000000        \t0.018000000000000\n",
      "W50       0.141000000000000        \t0.000500000000000\n",
      "W10       1.020000000000000\n",
      "UNITS     TCB\n",
      "SI414     1.036070327378360\n",
      "S400      550                      \t100\n",
      "S1400     150.199999999999989      \t2\n",
      "S150      870                      \t30\n",
      "S200      507                      \t6\n",
      "S600      300                      \t20\n",
      "S700      364                      \t19\n",
      "S800      300                      \t50\n",
      "S1600     115                      \t3\n",
      "S3000     35.600000000000001       \t1\n",
      "S5000     9                        \t3\n",
      "SPINDX    -1.650000000000000       \t0\n",
      "BINARY    T2\n",
      "T0        54501.467100000001665    \t0\n",
      "PB        5.741045900000000        \t4.000000000000000e-07\n",
      "A1        3.366714440000000        \t5.000000000000000e-08\n",
      "OM        1.363000000000000        \t1.700000000000000e-02\n",
      "ECC       0.000019181100000        \t1.500000000000000e-09\n",
      "EPS1      0.000018768474587        \t2.340500009946148e-07\n",
      "EPS2      0.000003957140242        \t3.107145900795618e-10\n",
      "BINCOMP   He\n",
      "FB0       0.000002016021867        \t1.404637344591799e-13\n",
      "FB1       -1.515187505971710e-23   \t2.438606510167699e-26\n",
      "OMDOT     0.013800000000000        \t1.300000000000000e-03\n",
      "PBDOT     3.728000000000000e-12    \t6.000000000000000e-15\n",
      "KOM       207                      \t1.200000000000000e+00\n",
      "KIN       137.560000000000002      \t4.000000000000000e-02\n",
      "M2        0.224000000000000        \t7.000000000000000e-03\n",
      "MASSFN    0.001243138547747        \t1.818671750289627e-10\n",
      "MINMASS   0.140287812851991\n",
      "MEDMASS   0.163681209820948\n",
      "UPRMASS   0.349280741825212\n",
      "MINOMDOT  0.014102176601205\n",
      "R_LUM     13.522431999999998\n",
      "R_LUM14   3.692853248000000\n",
      "AGE       1.592213339439734e+09\n",
      "BSURF     5.811827144997799e+08\n",
      "EDOT      1.185124219517917e+34\n",
      "EDOTD2    4.820274346617933e+35\n",
      "PMTOT     140.911696980768767      \t0.002000000000000\n",
      "VTRANS    104.751421439243629\n",
      "P1_I      1.374185762050465e-20\n",
      "AGE_I     6.638208879539431e+09\n",
      "BSURF_I   2.846347111750650e+08\n",
      "B_LC      28549.138138564318069\n",
      "H0_SD     7.946077012515575e-27\n",
      "\n"
     ]
    }
   ],
   "source": [
    "print(query.get_ephemeris(pulsar))"
   ]
  },
  {
   "cell_type": "code",
   "execution_count": 19,
   "metadata": {},
   "outputs": [
    {
     "name": "stdout",
     "output_type": "stream",
     "text": [
      "[5.75761568902289, 5.75736978368956, 5.75743692450131, 5.75750103292496, 5.75723515774632, 5.75769936346094, 5.7575051645832, 5.75750206695685, 5.75743179112573, 5.75755890862292, 5.7573059212111, 5.75756710462621, 5.75723544441377, 5.75755887796513, 5.7573045728278, 5.75768913114636, 5.75755589872144, 5.75766002253759, 5.75726237572109, 5.75737902104945, 5.75769729450851, 5.75736557993028, 5.7575, 5.75762085559939, 5.75726566092206, 5.75727136764541, 5.75761878864557, 5.75766424025547]\n"
     ]
    }
   ],
   "source": [
    "print(P)"
   ]
  },
  {
   "cell_type": "code",
   "execution_count": null,
   "metadata": {},
   "outputs": [],
   "source": []
  },
  {
   "cell_type": "code",
   "execution_count": 17,
   "metadata": {},
   "outputs": [
    {
     "data": {
      "text/plain": [
       "Text(0.5, 0, 'Observed Spin Period (ms)')"
      ]
     },
     "execution_count": 17,
     "metadata": {},
     "output_type": "execute_result"
    },
    {
     "data": {
      "image/png": "[encoded data removed]",
      "text/plain": [
       "<Figure size 720x432 with 1 Axes>"
      ]
     },
     "metadata": {
      "needs_background": "light"
     },
     "output_type": "display_data"
    }
   ],
   "source": [
    "fig, ax = plt.subplots(figsize = (10, 6))\n",
    "ax.plot(t, P, 'o')\n",
    "ax.set_title(pulsar)\n",
    "ax.set_xlabel(\"Time (mjd)\")\n",
    "ax.set_ylabel(\"Observed Spin Period (ms)\")"
   ]
  },
  {
   "cell_type": "code",
   "execution_count": 27,
   "metadata": {},
   "outputs": [],
   "source": [
    "P_func = lambda t, T0, PB, A1, Pi: Pi * (1 + 2 * np.pi * A1 / PB * np.cos(2 * np.pi * (t - T0) / PB))\n",
    "# p0 is the intial guesses for the fit params\n",
    "p0 = [58790, 5.5, 0, 0.0005]\n",
    "popt, pcov = curve_fit(P_func, t, P, p0) # p_optimal and p_covariance matrix\n",
    "T0, PB, A1, Pi = popt"
   ]
  },
  {
   "cell_type": "code",
   "execution_count": 28,
   "metadata": {},
   "outputs": [
    {
     "data": {
      "text/plain": [
       "Text(0, 0.5, 'Observed Spin Period (ms)')"
      ]
     },
     "execution_count": 28,
     "metadata": {},
     "output_type": "execute_result"
    },
    {
     "data": {
      "image/png": "[encoded data removed]",
      "text/plain": [
       "<Figure size 720x432 with 1 Axes>"
      ]
     },
     "metadata": {
      "needs_background": "light"
     },
     "output_type": "display_data"
    }
   ],
   "source": [
    "times = np.linspace(min(t), max(t), int(1e4))\n",
    "\n",
    "fig, ax = plt.subplots(figsize = (10, 6))\n",
    "ax.plot(times, P_func(times, T0, PB, A1, Pi))\n",
    "ax.plot(t, P, '.')\n",
    "\n",
    "ax.set_title(pulsar)\n",
    "ax.set_xlabel(\"Time (mjd)\")\n",
    "ax.set_ylabel(\"Observed Spin Period (ms)\")"
   ]
  },
  {
   "cell_type": "code",
   "execution_count": 29,
   "metadata": {},
   "outputs": [
    {
     "name": "stdout",
     "output_type": "stream",
     "text": [
      "58790.00057982258 5.740516117198288 3.31714726177561 5.757452449745953\n",
      "[[ 1.54745895e-05 -1.58041866e-06 -2.55604306e-11 -5.10001566e-11]\n",
      " [-1.58041866e-06  5.31901535e-06  2.15695828e-11 -1.34582815e-10]\n",
      " [-2.55604306e-11  2.15695828e-11  4.04743848e-14 -2.69928667e-14]\n",
      " [-5.10001566e-11 -1.34582815e-10 -2.69928667e-14  6.51134056e-13]]\n"
     ]
    }
   ],
   "source": [
    "print(T0, PB, A1 * 86164.0905, Pi)\n",
    "print(pcov)"
   ]
  },
  {
   "cell_type": "code",
   "execution_count": 30,
   "metadata": {},
   "outputs": [
    {
     "data": {
      "text/plain": [
       "5.757452449745953"
      ]
     },
     "execution_count": 30,
     "metadata": {},
     "output_type": "execute_result"
    }
   ],
   "source": [
    "Pi"
   ]
  },
  {
   "cell_type": "code",
   "execution_count": 31,
   "metadata": {},
   "outputs": [
    {
     "data": {
      "text/plain": [
       "5.740516117198288"
      ]
     },
     "execution_count": 31,
     "metadata": {},
     "output_type": "execute_result"
    }
   ],
   "source": [
    "PB"
   ]
  },
  {
   "cell_type": "code",
   "execution_count": 32,
   "metadata": {},
   "outputs": [
    {
     "data": {
      "text/plain": [
       "58790.00057982258"
      ]
     },
     "execution_count": 32,
     "metadata": {},
     "output_type": "execute_result"
    }
   ],
   "source": [
    "T0"
   ]
  },
  {
   "cell_type": "code",
   "execution_count": null,
   "metadata": {},
   "outputs": [],
   "source": []
  }
 ],
 "metadata": {
  "kernelspec": {
   "display_name": "base",
   "language": "python",
   "name": "python3"
  },
  "language_info": {
   "codemirror_mode": {
    "name": "ipython",
    "version": 3
   },
   "file_extension": ".py",
   "mimetype": "text/x-python",
   "name": "python",
   "nbconvert_exporter": "python",
   "pygments_lexer": "ipython3",
   "version": "3.9.12"
  }
 },
 "nbformat": 4,
 "nbformat_minor": 2
}
